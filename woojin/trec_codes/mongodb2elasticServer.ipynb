{
 "metadata": {
  "name": "",
  "signature": "sha256:f51665ed3bcc12b3ce015099392e41442d7ae9508df35a58eb7d3bb58e3e5897"
 },
 "nbformat": 3,
 "nbformat_minor": 0,
 "worksheets": [
  {
   "cells": [
    {
     "cell_type": "code",
     "collapsed": false,
     "input": [
      "from datetime import datetime\n",
      "from elasticsearch import Elasticsearch"
     ],
     "language": "python",
     "metadata": {},
     "outputs": [],
     "prompt_number": 1
    },
    {
     "cell_type": "code",
     "collapsed": false,
     "input": [
      "from pymongo import MongoClient\n",
      "client = MongoClient('mongodb://210.107.192.201:27017')\n",
      "es = Elasticsearch([{'host':'210.107.192.201', 'port':9200}])\n",
      "#http://210.107.192.201/"
     ],
     "language": "python",
     "metadata": {},
     "outputs": [],
     "prompt_number": 7
    },
    {
     "cell_type": "code",
     "collapsed": false,
     "input": [
      "db = client.trec"
     ],
     "language": "python",
     "metadata": {},
     "outputs": [],
     "prompt_number": 8
    },
    {
     "cell_type": "code",
     "collapsed": false,
     "input": [
      "collection = db.ArticleSmallData3"
     ],
     "language": "python",
     "metadata": {},
     "outputs": [],
     "prompt_number": 9
    },
    {
     "cell_type": "code",
     "collapsed": false,
     "input": [
      "#data = collection.find_one()\n",
      "cursor = collection.find()\n",
      "data = cursor.next()\n",
      "#obj = next(cursor, None)\n",
      "#data['pmcid']"
     ],
     "language": "python",
     "metadata": {},
     "outputs": [],
     "prompt_number": 10
    },
    {
     "cell_type": "code",
     "collapsed": false,
     "input": [
      "while(data):\n",
      "  #from bson.json_util import dumps\n",
      "#import json\n",
      "  title = data['title']\n",
      "  pmcid = data['pmcid']\n",
      "  abstract = data['abstrctSectionList']\n",
      "  abstractdata = ''\n",
      "  for p in abstract:\n",
      "    for key, value in p.items():\n",
      "      abstractdata += (value + \"\\n\")  \n",
      "  body = data['bodySectionList']\n",
      "  bodydata = ''\n",
      "  for p in body:\n",
      "    for key, value in p.items():\n",
      "      bodydata += (value + \"\\n\")\n",
      "  #title = json.loads(dumps(data))['articleMeta']['title']\n",
      "  #section = json.loads(dumps(data))['articleContent']['sectionList']\n",
      "  #pmcid = json.loads(dumps(data))['articleMeta']['pmcid']\n",
      "\n",
      "  #print(pmcid)\n",
      "  #print(body)\n",
      "\n",
      "  data = {\n",
      "    'pmcid' : pmcid,\n",
      "    'title' : title,  \n",
      "    'abstract' : abstractdata,\n",
      "    'body' : bodydata\n",
      "  }\n",
      "\n",
      "  res = es.index(index=\"dfr_2014_sample\", doc_type='article', id=pmcid, body=data)  \n",
      "#print(res['created'])\n",
      "#res = es.get(index=\"trec\", doc_type='articleSmall', id=pmcid)\n",
      "#print(res['_source'])\n",
      "  data = cursor.next()\n",
      "print(\"finished\")"
     ],
     "language": "python",
     "metadata": {},
     "outputs": []
    },
    {
     "cell_type": "code",
     "collapsed": false,
     "input": [
      "print(\"finish\")"
     ],
     "language": "python",
     "metadata": {},
     "outputs": [
      {
       "output_type": "stream",
       "stream": "stdout",
       "text": [
        "finish\n"
       ]
      }
     ],
     "prompt_number": 1
    },
    {
     "cell_type": "code",
     "collapsed": false,
     "input": [],
     "language": "python",
     "metadata": {},
     "outputs": []
    }
   ],
   "metadata": {}
  }
 ]
}