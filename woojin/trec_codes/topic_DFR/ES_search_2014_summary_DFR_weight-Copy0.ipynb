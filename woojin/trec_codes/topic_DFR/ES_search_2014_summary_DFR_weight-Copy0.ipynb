{
 "metadata": {
  "name": "",
  "signature": "sha256:ea9893d168e9b69c183a14565123747362761166d3709e6114254698d27fd03f"
 },
 "nbformat": 3,
 "nbformat_minor": 0,
 "worksheets": [
  {
   "cells": [
    {
     "cell_type": "code",
     "collapsed": false,
     "input": [
      "from elasticsearch import Elasticsearch\n",
      "es = Elasticsearch([{'host':'210.107.192.201', 'port':9200}])\n",
      "import csv\n",
      "import os\n",
      "import pandas as pd\n",
      "\n",
      "folder_name = \"DFR_summary_weight136_2014\"\n",
      "index_name = \"DFR\"\n",
      "index_name2 = \"dfr_2014_weight_1_3_6\"\n",
      "analyzer_name = \"my_DFR_analyzer\"\n",
      "#types = \"description\"\n",
      "types = \"summary\"\n",
      "#df = pd.read_csv('2014_mix_topic.csv')   \n",
      "\n",
      "qryexps = open('2014_mix_topic_new.csv', 'rb')     \n",
      "qryexps_read = qryexps.readlines()\n",
      "qryexps_list = list(qryexps_read)\n",
      "qryexps.close()  \n",
      "\n",
      "\n",
      "with open('{0}.csv'.format(types), 'rb') as csvfile:\n",
      "    reader = csv.DictReader(csvfile)\n",
      "    for inx, item in enumerate(reader):\n",
      "        \n",
      "        newpath = './{0}/'.format(folder_name)\n",
      "        if not os.path.exists(newpath): os.makedirs(newpath)\n",
      "        title = \"{0} {1}{2}.csv\".format(index_name, types, inx+1)\n",
      "        print(title)\n",
      "        label = \"rank, pmcid, score\"\n",
      "        print(label)\n",
      "        target = open(newpath+title, 'w')\n",
      "        target.write(label + '\\n')\n",
      "        query = item[types]\n",
      "        query_expanse = qryexps_list[inx]\n",
      "        query = query + query_expanse\n",
      "        query = query.lower()\n",
      "        query = query.replace(r\"/\",',')\n",
      "        query = query.replace(r\"[\",' ')\n",
      "        query = query.replace(r\"]\",' ')\n",
      "        print(query)\n",
      "        res = es.search(index=index_name2,doc_type=\"article\", q=query, analyzer=analyzer_name, size=400, request_timeout=100000)\n",
      "        count = 0\n",
      "        for doc in res['hits']['hits']:\n",
      "            count += 1\n",
      "            text = '{0}, {1}, {2}'.format(count,doc['_source']['pmcid'],doc['_score'] )\n",
      "            print (text)\n",
      "            target.write(text + '\\n')\n",
      "        target.close()"
     ],
     "language": "python",
     "metadata": {},
     "outputs": [
      {
       "output_type": "stream",
       "stream": "stdout",
       "text": [
        "DFR summary1.csv\n",
        "rank, pmcid, score\n"
       ]
      },
      {
       "ename": "TypeError",
       "evalue": "unsupported operand type(s) for +: 'dict' and 'str'",
       "output_type": "pyerr",
       "traceback": [
        "\u001b[1;31m---------------------------------------------------------------------------\u001b[0m\n\u001b[1;31mTypeError\u001b[0m                                 Traceback (most recent call last)",
        "\u001b[1;32m<ipython-input-2-de4b35804abb>\u001b[0m in \u001b[0;36m<module>\u001b[1;34m()\u001b[0m\n\u001b[0;32m     34\u001b[0m         \u001b[0mquery\u001b[0m \u001b[1;33m=\u001b[0m \u001b[0mitem\u001b[0m\u001b[1;33m\u001b[0m\u001b[0m\n\u001b[0;32m     35\u001b[0m         \u001b[0mquery_expanse\u001b[0m \u001b[1;33m=\u001b[0m \u001b[0mqryexps_list\u001b[0m\u001b[1;33m[\u001b[0m\u001b[0minx\u001b[0m\u001b[1;33m]\u001b[0m\u001b[1;33m\u001b[0m\u001b[0m\n\u001b[1;32m---> 36\u001b[1;33m         \u001b[0mquery\u001b[0m \u001b[1;33m=\u001b[0m \u001b[0mquery\u001b[0m \u001b[1;33m+\u001b[0m \u001b[0mquery_expanse\u001b[0m\u001b[1;33m\u001b[0m\u001b[0m\n\u001b[0m\u001b[0;32m     37\u001b[0m         \u001b[0mquery\u001b[0m \u001b[1;33m=\u001b[0m \u001b[0mquery\u001b[0m\u001b[1;33m.\u001b[0m\u001b[0mlower\u001b[0m\u001b[1;33m(\u001b[0m\u001b[1;33m)\u001b[0m\u001b[1;33m\u001b[0m\u001b[0m\n\u001b[0;32m     38\u001b[0m         \u001b[0mquery\u001b[0m \u001b[1;33m=\u001b[0m \u001b[0mquery\u001b[0m\u001b[1;33m.\u001b[0m\u001b[0mreplace\u001b[0m\u001b[1;33m(\u001b[0m\u001b[1;34mr\"/\"\u001b[0m\u001b[1;33m,\u001b[0m\u001b[1;34m','\u001b[0m\u001b[1;33m)\u001b[0m\u001b[1;33m\u001b[0m\u001b[0m\n",
        "\u001b[1;31mTypeError\u001b[0m: unsupported operand type(s) for +: 'dict' and 'str'"
       ]
      }
     ],
     "prompt_number": 2
    }
   ],
   "metadata": {}
  }
 ]
}